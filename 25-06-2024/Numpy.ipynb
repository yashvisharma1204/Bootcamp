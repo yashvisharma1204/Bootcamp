import nbformat as nbf

# Create a new notebook
nb = nbf.v4.new_notebook()

# Define the cells
cells = [
    nbf.v4.new_markdown_cell("# Detailed Notes on NumPy"),
    
    nbf.v4.new_markdown_cell("## 1. Introduction to NumPy\nNumPy (Numerical Python) is a powerful, open-source library for numerical computing in Python. It provides support for arrays, matrices, and a wide range of mathematical functions, making it essential for scientific computing."),
    
    nbf.v4.new_markdown_cell("### 1.1 Key Features:\n- **Efficient multi-dimensional array object (`ndarray`)**: Supports large, multi-dimensional arrays and matrices.\n- **Mathematical functions for operations on arrays**: Provides a large library of high-level mathematical functions to operate on these arrays.\n- **Tools for integrating C/C++ and Fortran code**: Useful for performance-critical applications.\n- **Random number capabilities**: Functions for generating random numbers and random sampling."),
    
    nbf.v4.new_markdown_cell("## 2. Installation\nTo install NumPy, use the following command in your terminal:\n\n```sh\npip install numpy\n```"),
    
    nbf.v4.new_markdown_cell("## 3. Importing NumPy\nYou typically import NumPy using the alias `np` for convenience:\n\n```python\nimport numpy as np\n```"),
    
    nbf.v4.new_markdown_cell("## 4. Creating Arrays"),
    
    nbf.v4.new_markdown_cell("### 4.1. Creating Arrays from Lists\nYou can create an array from a Python list using `np.array()`.\n\n```python\narray = np.array([1, 2, 3, 4])\n```"),
    
    nbf.v4.new_markdown_cell("### 4.2. Creating Multi-dimensional Arrays\nCreate multi-dimensional arrays (e.g., matrices) by passing nested lists to `np.array()`.\n\n```python\narray_2d = np.array([[1, 2], [3, 4]])\n```"),
    
    nbf.v4.new_markdown_cell("### 4.3. Using `arange` and `linspace`\n- **`np.arange(start, stop, step)`**: Creates arrays with regularly spaced values.\n  ```python\n  arr = np.arange(0, 10, 2)  # [0, 2, 4, 6, 8]\n  ```\n- **`np.linspace(start, stop, num)`**: Creates arrays with evenly spaced values between a start and end value.\n  ```python\n  linspace_arr = np.linspace(0, 1, 5)  # [0., 0.25, 0.5, 0.75, 1.]\n  ```"),
    
    nbf.v4.new_markdown_cell("### 4.4. Creating Special Arrays\n- **Zeros Array**: Creates an array filled with zeros.\n  ```python\n  zeros = np.zeros((3, 3))\n  ```\n- **Ones Array**: Creates an array filled with ones.\n  ```python\n  ones = np.ones((2, 2))\n  ```"),
    
    nbf.v4.new_markdown_cell("- **Identity Matrix**: Creates an identity matrix.\n  ```python\n  identity = np.eye(3)\n  ```"),
    
    nbf.v4.new_markdown_cell("## 5. Array Attributes and Methods"),
    
    nbf.v4.new_markdown_cell("### 5.1. Attributes\n- **`shape`**: Returns a tuple indicating the size of the array in each dimension.\n  ```python\n  arr = np.array([[1, 2, 3], [4, 5, 6]])\n  print(arr.shape)  # (2, 3)\n  ```\n- **`dtype`**: Data type of the array's elements.\n  ```python\n  print(arr.dtype)  # int64\n  ```\n- **`size`**: Total number of elements.\n  ```python\n  print(arr.size)  # 6\n  ```\n- **`ndim`**: Number of dimensions.\n  ```python\n  print(arr.ndim)  # 2\n  ```"),
]
