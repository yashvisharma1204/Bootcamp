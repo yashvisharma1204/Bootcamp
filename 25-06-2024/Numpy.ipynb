import numpy as np
import nbformat as nbf

# Create a new notebook
nb = nbf.v4.new_notebook()

# Define the cells
text_cells = [
    "# Detailed Notes on NumPy\n",
    
    "## 1. Introduction to NumPy\n"
    "NumPy (Numerical Python) is a powerful, open-source library for numerical computing in Python. It provides support for arrays, matrices, and a wide range of mathematical functions, making it essential for scientific computing.\n",
    
    "### 1.1 Key Features:\n"
    "- **Efficient multi-dimensional array object (`ndarray`)**: Supports large, multi-dimensional arrays and matrices.\n"
    "- **Mathematical functions for operations on arrays**: Provides a large library of high-level mathematical functions to operate on these arrays.\n"
    "- **Tools for integrating C/C++ and Fortran code**: Useful for performance-critical applications.\n"
    "- **Random number capabilities**: Functions for generating random numbers and random sampling.\n",
    
    "## 2. Installation\n"
    "To install NumPy, use the following command in your terminal:\n",
    
    "```sh\npip install numpy\n```\n",
    
    "## 3. Importing NumPy\n"
    "You typically import NumPy using the alias `np` for convenience:\n",
    
    "```python\nimport numpy as np\n```\n",
    
    "## 4. Creating Arrays\n",
    
    "### 4.1. Creating Arrays from Lists\n"
    "You can create an array from a Python list using `np.array()`.\n",
    
    "```python\narray = np.array([1, 2, 3, 4])\n```\n",
    
    "### 4.2. Creating Multi-dimensional Arrays\n"
    "Create multi-dimensional arrays (e.g., matrices) by passing nested lists to `np.array()`.\n",
    
    "```python\narray_2d = np.array([[1, 2], [3, 4]])\n```\n",
    
    "### 4.3. Using `arange` and `linspace`\n"
    "- **`np.arange(start, stop, step)`**: Creates arrays with regularly spaced values.\n"
    "  ```python\n  arr = np.arange(0, 10, 2)  # [0, 2, 4, 6, 8]\n  ```\n"
    "- **`np.linspace(start, stop, num)`**: Creates arrays with evenly spaced values between a start and end value.\n"
    "  ```python\n  linspace_arr = np.linspace(0, 1, 5)  # [0., 0.25, 0.5, 0.75, 1.]\n  ```\n",
    
    "### 4.4. Creating Special Arrays\n"
    "- **Zeros Array**: Creates an array filled with zeros.\n"
    "  ```python\n  zeros = np.zeros((3, 3))\n  ```\n"
    "- **Ones Array**: Creates an array filled with ones.\n"
    "  ```python\n  ones = np.ones((2, 2))\n  ```\n"
    "- **Identity Matrix**: Creates an identity matrix.\n"
    "  ```python\n  identity = np.eye(3)\n  ```\n",
    
    "## 5. Array Attributes and Methods\n",
    
    "### 5.1. Attributes\n"
    "- **`shape`**: Returns a tuple indicating the size of the array in each dimension.\n"
    "  ```python\n  arr = np.array([[1, 2, 3], [4, 5, 6]])\n  print(arr.shape)  # (2, 3)\n  ```\n"
    "- **`dtype`**: Data type of the array's elements.\n"
    "  ```python\n  print(arr.dtype)  # int64\n  ```\n"
    "- **`size`**: Total number of elements.\n"
    "  ```python\n  print(arr.size)  # 6\n  ```\n"
    "- **`ndim`**: Number of dimensions.\n"
    "  ```python\n  print(arr.ndim)  # 2\n  ```\n",
    
    "### 5.2. Methods\n"
    "- **`reshape()`**: Change the shape of an array without changing its data.\n"
    "  ```python\n  reshaped = arr.reshape((3, 2))\n  ```\n"
    "- **`flatten()`**: Flatten a multi-dimensional array to a 1D array.\n"
    "  ```python\n  flattened = arr.flatten()\n  ```\n"
    "- **`transpose()`**: Transpose the array (swap axes).\n"
    "  ```python\n  transposed = arr.transpose()\n  ```\n",
    
    "## 6. Array Indexing and Slicing\n",
    
    "### 6.1. Indexing\n"
    "Access elements using square brackets:\n"
    "```python\nelement = arr[1, 2]  # Accessing element at second row, third column\n```\n",
    
    "### 6.2. Slicing\n"
    "Slicing syntax: `start:stop:step`\n"
    "```python\nslice_ = arr[0, 1:]  # Slicing first row from the second element\n```\n",
    
    "## 7. Array Operations\n",
    
    "### 7.1. Arithmetic Operations\n"
    "NumPy allows element-wise arithmetic operations between arrays.\n"
    "```python\na = np.array([1, 2, 3])\nb = np.array([4, 5, 6])\nprint(a + b)  # [5, 7, 9]\nprint(a * b)  # [4, 10, 18]\n```\n",
    
    "### 7.2. Universal Functions (ufuncs)\n"
    "Universal functions operate element-wise on an array.\n"
    "```python\nprint(np.sqrt(a))  # [1., 1.41421356, 1.73205081]\nprint(np.exp(a))   # [ 2.71828183,  7.3890561 , 20.08553692]\n```\n",
    
    "## 8. Broadcasting\n"
    "Broadcasting allows operations on arrays of different shapes. Smaller arrays are \"broadcast\" over larger ones to perform element-wise operations.\n"
    "```python\na = np.array([[1], [2], [3]])\nb = np.array([4, 5, 6])\nprint(a + b)  # [[5, 6, 7], [6, 7, 8], [7, 8, 9]]\n```\n",
    
    "## 9. Linear Algebra\n",
    
    "### 9.1. Dot Product\n"
    "Calculate the dot product of two arrays.\n"
    "```python\na = np.array([[1, 2], [3, 4]])\nb = np.array([[5, 6], [7, 8]])\ndot_product = np.dot(a, b)\n```\n",
    
    "### 9.2. Matrix Multiplication\n"
    "Perform matrix multiplication using `matmul`.\n"
    "```python\nmat_mult = np.matmul(a, b)\n```\n",
    
    "### 9.3. Determinant and Inverse\n"
    "- **Determinant**: Calculate the determinant of an array.\n"
    "  ```python\n  det = np.linalg.det(a)\n  ```\n"
    "- **Inverse**: Calculate the inverse of an array.\n"
    "  ```python\n  inverse = np.linalg.inv(a)\n  ```\n",
    
    "## 10. Random Number Generation\n",
    
    "### 10.1. Random Arrays\n"
    "Generate arrays of random numbers.\n"
    "- **Uniformly distributed over [0, 1)**:\n"
    "  ```python\n  rand_arr = np.random.rand(3, 3)\n  ```\n"
    "- **Random integers between specified range**:\n"
    "  ```python\n  rand_int = np.random.randint(0, 10, (3, 3))\n  ```\n",
    
    "### 10.2. Seed\n"
    "Set the seed for reproducibility of random numbers.\n"
    "```python\nnp.random.seed(42)  # Set the seed for reproducibility\n```\n",
    
    "## 11. Useful Functions\n",
    
    "### 11.1. Summation and Product\n"
    "- **Sum**: Sum of array elements.\n"
    "  ```python\n  sum_ = np.sum(arr)\n  ```\n"
    "- **Product**: Product of array elements.\n"
    "  ```python\n  prod = np.prod(arr)\n  ```\n",
    
]
