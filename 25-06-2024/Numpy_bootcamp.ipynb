{
 "cells": [
  {
   "cell_type": "markdown",
   "id": "207ffae2",
   "metadata": {},
   "source": [
    "# NumPy"
   ]
  },
  {
   "cell_type": "markdown",
   "id": "504b511a",
   "metadata": {},
   "source": [
    "## 1. Introduction to NumPy"
   ]
  },
  {
   "cell_type": "markdown",
   "id": "8f1592c3",
   "metadata": {},
   "source": [
    "NumPy (Numerical Python) is a powerful, open-source library for numerical computing in Python. It provides support for arrays, matrices, and a wide range of mathematical functions, making it essential for scientific computing.\n",
    "\n",
    "### 1.1 Key Features:\n",
    "- Efficient multi-dimensional array object (ndarray): Supports large, multi-dimensional arrays and matrices.\n",
    "- Mathematical functions for operations on arrays: Provides a large library of high-level mathematical functions to operate on these arrays.\n",
    "- Tools for integrating C/C++ and Fortran code: Useful for performance-critical applications.\n",
    "- Random number capabilities: Functions for generating random numbers and random sampling.\n",
    "\n",
    "## 2. Installation\n",
    "To install NumPy, use the following command in your terminal:"
   ]
  },
  {
   "cell_type": "code",
   "execution_count": 2,
   "id": "72e16cfa",
   "metadata": {},
   "outputs": [
    {
     "name": "stdout",
     "output_type": "stream",
     "text": [
      "Requirement already satisfied: numpy in c:\\users\\yashvi\\anaconda3\\lib\\site-packages (1.24.3)\n",
      "Note: you may need to restart the kernel to use updated packages.\n"
     ]
    }
   ],
   "source": [
    "pip install numpy"
   ]
  },
  {
   "cell_type": "markdown",
   "id": "9c60e933",
   "metadata": {},
   "source": [
    "## 3. Importing NumPy\n",
    "You typically import NumPy using the alias np for convenience:"
   ]
  },
  {
   "cell_type": "code",
   "execution_count": 3,
   "id": "54ed5797",
   "metadata": {},
   "outputs": [],
   "source": [
    "import numpy as np"
   ]
  },
  {
   "cell_type": "markdown",
   "id": "0692da1e",
   "metadata": {},
   "source": [
    "## 4. Creating Arrays\n",
    "### 4.1. Creating Arrays from Lists\n",
    "You can create an array from a Python list using np.array()."
   ]
  },
  {
   "cell_type": "code",
   "execution_count": 4,
   "id": "34c9fea9",
   "metadata": {},
   "outputs": [],
   "source": [
    "array = np.array([1, 2, 3, 4])"
   ]
  },
  {
   "cell_type": "markdown",
   "id": "3718a9be",
   "metadata": {},
   "source": [
    "### 4.2. Creating Multi-dimensional Arrays\n",
    "Create multi-dimensional arrays (e.g., matrices) by passing nested lists to np.array()."
   ]
  },
  {
   "cell_type": "code",
   "execution_count": 5,
   "id": "24ca50a9",
   "metadata": {},
   "outputs": [],
   "source": [
    "array_2d = np.array([[1, 2], [3, 4]])"
   ]
  },
  {
   "cell_type": "markdown",
   "id": "8fa987a0",
   "metadata": {},
   "source": [
    "### 4.3. Using arange and linspace\n",
    "- np.arange(start, stop, step): Creates arrays with regularly spaced values"
   ]
  },
  {
   "cell_type": "code",
   "execution_count": 8,
   "id": "127c2896",
   "metadata": {},
   "outputs": [
    {
     "data": {
      "text/plain": [
       "array([0, 2, 4, 6, 8])"
      ]
     },
     "execution_count": 8,
     "metadata": {},
     "output_type": "execute_result"
    }
   ],
   "source": [
    "arr = np.arange(0, 10, 2)  \n",
    "arr"
   ]
  },
  {
   "cell_type": "markdown",
   "id": "2a45c034",
   "metadata": {},
   "source": [
    "- np.linspace(start, stop, num): Creates arrays with evenly spaced values between a start and end value."
   ]
  },
  {
   "cell_type": "code",
   "execution_count": 9,
   "id": "8a35688a",
   "metadata": {},
   "outputs": [
    {
     "data": {
      "text/plain": [
       "array([0.  , 0.25, 0.5 , 0.75, 1.  ])"
      ]
     },
     "execution_count": 9,
     "metadata": {},
     "output_type": "execute_result"
    }
   ],
   "source": [
    "linspace_arr = np.linspace(0, 1, 5)\n",
    "linspace_arr"
   ]
  },
  {
   "cell_type": "markdown",
   "id": "7f8245a2",
   "metadata": {},
   "source": [
    "### 4.4. Creating Special Arrays\n",
    "- Zeros Array: Creates an array filled with zeros"
   ]
  },
  {
   "cell_type": "code",
   "execution_count": 10,
   "id": "21eba8f5",
   "metadata": {},
   "outputs": [
    {
     "data": {
      "text/plain": [
       "array([[0., 0., 0.],\n",
       "       [0., 0., 0.],\n",
       "       [0., 0., 0.]])"
      ]
     },
     "execution_count": 10,
     "metadata": {},
     "output_type": "execute_result"
    }
   ],
   "source": [
    "zeros = np.zeros((3, 3))\n",
    "zeros"
   ]
  },
  {
   "cell_type": "markdown",
   "id": "bd1ff3b2",
   "metadata": {},
   "source": [
    "- Ones Array: Creates an array filled with ones"
   ]
  },
  {
   "cell_type": "code",
   "execution_count": 11,
   "id": "c5323c35",
   "metadata": {},
   "outputs": [
    {
     "data": {
      "text/plain": [
       "array([[1., 1.],\n",
       "       [1., 1.]])"
      ]
     },
     "execution_count": 11,
     "metadata": {},
     "output_type": "execute_result"
    }
   ],
   "source": [
    "ones = np.ones((2, 2))\n",
    "ones"
   ]
  },
  {
   "cell_type": "markdown",
   "id": "c5f493c5",
   "metadata": {},
   "source": [
    "- Identity Matrix: Creates an identity matrix"
   ]
  },
  {
   "cell_type": "code",
   "execution_count": 12,
   "id": "f48ef234",
   "metadata": {},
   "outputs": [
    {
     "data": {
      "text/plain": [
       "array([[1., 0., 0.],\n",
       "       [0., 1., 0.],\n",
       "       [0., 0., 1.]])"
      ]
     },
     "execution_count": 12,
     "metadata": {},
     "output_type": "execute_result"
    }
   ],
   "source": [
    "identity = np.eye(3)\n",
    "identity"
   ]
  },
  {
   "cell_type": "markdown",
   "id": "071ba782",
   "metadata": {},
   "source": [
    "## 5. Array Attributes and Methods\n",
    "### 5.1. Attributes\n",
    "- shape: Returns a tuple indicating the size of the array in each dimension"
   ]
  },
  {
   "cell_type": "code",
   "execution_count": 13,
   "id": "637b7da5",
   "metadata": {},
   "outputs": [
    {
     "name": "stdout",
     "output_type": "stream",
     "text": [
      "(2, 3)\n"
     ]
    }
   ],
   "source": [
    "arr = np.array([[1, 2, 3], [4, 5, 6]])\n",
    "print(arr.shape) "
   ]
  },
  {
   "cell_type": "markdown",
   "id": "3084810e",
   "metadata": {},
   "source": [
    "- dtype: Data type of the array's elements."
   ]
  },
  {
   "cell_type": "code",
   "execution_count": 15,
   "id": "14f0a6c1",
   "metadata": {},
   "outputs": [
    {
     "name": "stdout",
     "output_type": "stream",
     "text": [
      "int32\n"
     ]
    }
   ],
   "source": [
    "print(arr.dtype)"
   ]
  },
  {
   "cell_type": "markdown",
   "id": "985be65b",
   "metadata": {},
   "source": [
    "- size: Total number of elements"
   ]
  },
  {
   "cell_type": "code",
   "execution_count": 17,
   "id": "11beba39",
   "metadata": {},
   "outputs": [
    {
     "name": "stdout",
     "output_type": "stream",
     "text": [
      "6\n"
     ]
    }
   ],
   "source": [
    "print(arr.size)  "
   ]
  },
  {
   "cell_type": "markdown",
   "id": "00f06259",
   "metadata": {},
   "source": [
    "- ndim: Number of dimensions"
   ]
  },
  {
   "cell_type": "code",
   "execution_count": 18,
   "id": "2fbaceb2",
   "metadata": {},
   "outputs": [
    {
     "name": "stdout",
     "output_type": "stream",
     "text": [
      "2\n"
     ]
    }
   ],
   "source": [
    "print(arr.ndim)  "
   ]
  },
  {
   "cell_type": "markdown",
   "id": "38b7602c",
   "metadata": {},
   "source": [
    "### 5.2. Methods\n",
    "- reshape(): Change the shape of an array without changing its data"
   ]
  },
  {
   "cell_type": "code",
   "execution_count": 23,
   "id": "cd2ce45b",
   "metadata": {},
   "outputs": [
    {
     "data": {
      "text/plain": [
       "array([[1, 2],\n",
       "       [3, 4],\n",
       "       [5, 6]])"
      ]
     },
     "execution_count": 23,
     "metadata": {},
     "output_type": "execute_result"
    }
   ],
   "source": [
    "reshaped = arr.reshape((3, 2))\n",
    "reshaped"
   ]
  },
  {
   "cell_type": "markdown",
   "id": "f87d1e80",
   "metadata": {},
   "source": [
    "- flatten(): Flatten a multi-dimensional array to a 1D array"
   ]
  },
  {
   "cell_type": "code",
   "execution_count": 20,
   "id": "ba83aa79",
   "metadata": {},
   "outputs": [
    {
     "data": {
      "text/plain": [
       "array([1, 2, 3, 4, 5, 6])"
      ]
     },
     "execution_count": 20,
     "metadata": {},
     "output_type": "execute_result"
    }
   ],
   "source": [
    "flattened = arr.flatten()\n",
    "flattened"
   ]
  },
  {
   "cell_type": "markdown",
   "id": "c802bd2c",
   "metadata": {},
   "source": [
    "- transpose(): Transpose the array (swap axes)"
   ]
  },
  {
   "cell_type": "code",
   "execution_count": 21,
   "id": "e79eddf3",
   "metadata": {},
   "outputs": [
    {
     "data": {
      "text/plain": [
       "array([[1, 4],\n",
       "       [2, 5],\n",
       "       [3, 6]])"
      ]
     },
     "execution_count": 21,
     "metadata": {},
     "output_type": "execute_result"
    }
   ],
   "source": [
    "transposed = arr.transpose()\n",
    "transposed"
   ]
  },
  {
   "cell_type": "markdown",
   "id": "dd489472",
   "metadata": {},
   "source": [
    "## 6. Array Indexing and Slicing\n",
    "### 6.1. Indexing\n",
    "Access elements using square brackets:"
   ]
  },
  {
   "cell_type": "code",
   "execution_count": 25,
   "id": "d9d2f519",
   "metadata": {},
   "outputs": [
    {
     "data": {
      "text/plain": [
       "6"
      ]
     },
     "execution_count": 25,
     "metadata": {},
     "output_type": "execute_result"
    }
   ],
   "source": [
    "element = arr[1, 2]  # Accessing element at second row, third column\n",
    "element"
   ]
  },
  {
   "cell_type": "markdown",
   "id": "2cc81a8e",
   "metadata": {},
   "source": [
    "### 6.2. Slicing\n",
    "Slicing syntax: start:stop:step"
   ]
  },
  {
   "cell_type": "code",
   "execution_count": 26,
   "id": "88ffd1dc",
   "metadata": {},
   "outputs": [
    {
     "data": {
      "text/plain": [
       "array([2, 3])"
      ]
     },
     "execution_count": 26,
     "metadata": {},
     "output_type": "execute_result"
    }
   ],
   "source": [
    "slice_ = arr[0, 1:]  # Slicing first row from the second element\n",
    "slice_"
   ]
  },
  {
   "cell_type": "markdown",
   "id": "cdbe2dc7",
   "metadata": {},
   "source": [
    "## 7. Array Operations\n",
    "### 7.1. Arithmetic Operations\n",
    "NumPy allows element-wise arithmetic operations between arrays."
   ]
  },
  {
   "cell_type": "code",
   "execution_count": 27,
   "id": "3c5bc078",
   "metadata": {},
   "outputs": [
    {
     "name": "stdout",
     "output_type": "stream",
     "text": [
      "[5 7 9]\n",
      "[ 4 10 18]\n"
     ]
    }
   ],
   "source": [
    "a = np.array([1, 2, 3])\n",
    "b = np.array([4, 5, 6])\n",
    "print(a + b)  \n",
    "print(a * b)  "
   ]
  },
  {
   "cell_type": "markdown",
   "id": "14e05aa5",
   "metadata": {},
   "source": [
    "### 7.2. Universal Functions (ufuncs)\n",
    "Universal functions operate element-wise on an array."
   ]
  },
  {
   "cell_type": "code",
   "execution_count": 28,
   "id": "81d589d7",
   "metadata": {},
   "outputs": [
    {
     "name": "stdout",
     "output_type": "stream",
     "text": [
      "[1.         1.41421356 1.73205081]\n",
      "[ 2.71828183  7.3890561  20.08553692]\n"
     ]
    }
   ],
   "source": [
    "print(np.sqrt(a)) \n",
    "print(np.exp(a))   "
   ]
  },
  {
   "cell_type": "markdown",
   "id": "55fc3794",
   "metadata": {},
   "source": [
    "## 8. Broadcasting\n",
    "Broadcasting allows operations on arrays of different shapes. Smaller arrays are \"broadcast\" over larger ones to perform element-wise operations."
   ]
  },
  {
   "cell_type": "code",
   "execution_count": 29,
   "id": "8eb341ca",
   "metadata": {},
   "outputs": [
    {
     "name": "stdout",
     "output_type": "stream",
     "text": [
      "[[5 6 7]\n",
      " [6 7 8]\n",
      " [7 8 9]]\n"
     ]
    }
   ],
   "source": [
    "a = np.array([[1], [2], [3]])\n",
    "b = np.array([4, 5, 6])\n",
    "print(a + b) "
   ]
  },
  {
   "cell_type": "markdown",
   "id": "96227697",
   "metadata": {},
   "source": [
    "## 9. Linear Algebra\n",
    "### 9.1. Dot Product\n",
    "Calculate the dot product of two arrays"
   ]
  },
  {
   "cell_type": "code",
   "execution_count": 32,
   "id": "512cea5b",
   "metadata": {},
   "outputs": [
    {
     "data": {
      "text/plain": [
       "array([[19, 22],\n",
       "       [43, 50]])"
      ]
     },
     "execution_count": 32,
     "metadata": {},
     "output_type": "execute_result"
    }
   ],
   "source": [
    "a = np.array([[1, 2], [3, 4]])\n",
    "b = np.array([[5, 6], [7, 8]])\n",
    "dot_product = np.dot(a, b)\n",
    "dot_product"
   ]
  },
  {
   "cell_type": "markdown",
   "id": "a5662ced",
   "metadata": {},
   "source": [
    "### 9.2. Matrix Multiplication\n",
    "Perform matrix multiplication using matmul."
   ]
  },
  {
   "cell_type": "code",
   "execution_count": 34,
   "id": "18d109dd",
   "metadata": {},
   "outputs": [
    {
     "data": {
      "text/plain": [
       "array([[19, 22],\n",
       "       [43, 50]])"
      ]
     },
     "execution_count": 34,
     "metadata": {},
     "output_type": "execute_result"
    }
   ],
   "source": [
    "mat_mult = np.matmul(a, b)\n",
    "mat_mult"
   ]
  },
  {
   "cell_type": "markdown",
   "id": "3da985c8",
   "metadata": {},
   "source": [
    "### 9.3. Determinant and Inverse\n",
    "- Determinant: Calculate the determinant of an array"
   ]
  },
  {
   "cell_type": "code",
   "execution_count": 35,
   "id": "e4647a45",
   "metadata": {},
   "outputs": [
    {
     "data": {
      "text/plain": [
       "-2.0000000000000004"
      ]
     },
     "execution_count": 35,
     "metadata": {},
     "output_type": "execute_result"
    }
   ],
   "source": [
    "det = np.linalg.det(a)\n",
    "det"
   ]
  },
  {
   "cell_type": "markdown",
   "id": "d9690291",
   "metadata": {},
   "source": [
    "- Inverse: Calculate the inverse of an array"
   ]
  },
  {
   "cell_type": "code",
   "execution_count": 36,
   "id": "b8789604",
   "metadata": {},
   "outputs": [
    {
     "data": {
      "text/plain": [
       "array([[-2. ,  1. ],\n",
       "       [ 1.5, -0.5]])"
      ]
     },
     "execution_count": 36,
     "metadata": {},
     "output_type": "execute_result"
    }
   ],
   "source": [
    "inverse = np.linalg.inv(a)\n",
    "inverse"
   ]
  },
  {
   "cell_type": "markdown",
   "id": "eb7270a8",
   "metadata": {},
   "source": [
    "## 10. Random Number Generation\n",
    "### 10.1. Random Arrays\n",
    "Generate arrays of random numbers.\n",
    "\n",
    "- Uniformly distributed over [0, 1)"
   ]
  },
  {
   "cell_type": "code",
   "execution_count": 37,
   "id": "0ea8ef65",
   "metadata": {},
   "outputs": [
    {
     "data": {
      "text/plain": [
       "array([[0.20571234, 0.19949621, 0.66304829],\n",
       "       [0.82379021, 0.30377801, 0.59364409],\n",
       "       [0.31964465, 0.41629306, 0.35717136]])"
      ]
     },
     "execution_count": 37,
     "metadata": {},
     "output_type": "execute_result"
    }
   ],
   "source": [
    "rand_arr = np.random.rand(3, 3)\n",
    "rand_arr"
   ]
  },
  {
   "cell_type": "markdown",
   "id": "e7c80c91",
   "metadata": {},
   "source": [
    "- Random integers between specified range"
   ]
  },
  {
   "cell_type": "code",
   "execution_count": 39,
   "id": "85b11ff3",
   "metadata": {},
   "outputs": [
    {
     "data": {
      "text/plain": [
       "array([[9, 3, 7],\n",
       "       [9, 4, 2],\n",
       "       [3, 7, 5]])"
      ]
     },
     "execution_count": 39,
     "metadata": {},
     "output_type": "execute_result"
    }
   ],
   "source": [
    "rand_int = np.random.randint(0, 10, (3, 3))\n",
    "rand_int"
   ]
  },
  {
   "cell_type": "markdown",
   "id": "c8de554c",
   "metadata": {},
   "source": [
    "### 10.2. Seed\n",
    "Set the seed for reproducibility of random numbers."
   ]
  },
  {
   "cell_type": "code",
   "execution_count": 40,
   "id": "566170a1",
   "metadata": {},
   "outputs": [],
   "source": [
    "np.random.seed(42)  # Set the seed for reproducibility"
   ]
  },
  {
   "cell_type": "markdown",
   "id": "e8449c1b",
   "metadata": {},
   "source": [
    "## 11. Useful Functions\n",
    "### 11.1. Summation and Product\n",
    "- Sum: Sum of array elements"
   ]
  },
  {
   "cell_type": "code",
   "execution_count": 41,
   "id": "a43f73ee",
   "metadata": {},
   "outputs": [
    {
     "data": {
      "text/plain": [
       "21"
      ]
     },
     "execution_count": 41,
     "metadata": {},
     "output_type": "execute_result"
    }
   ],
   "source": [
    "sum_ = np.sum(arr)\n",
    "sum_"
   ]
  },
  {
   "cell_type": "markdown",
   "id": "843c2bb8",
   "metadata": {},
   "source": [
    "- Product: Product of array elements"
   ]
  },
  {
   "cell_type": "code",
   "execution_count": 42,
   "id": "0b75706e",
   "metadata": {},
   "outputs": [
    {
     "data": {
      "text/plain": [
       "720"
      ]
     },
     "execution_count": 42,
     "metadata": {},
     "output_type": "execute_result"
    }
   ],
   "source": [
    "prod = np.prod(arr)\n",
    "prod"
   ]
  },
  {
   "cell_type": "markdown",
   "id": "b15f4178",
   "metadata": {},
   "source": [
    "### 11.2. Minimum and Maximum\n",
    "- Minimum: Find the minimum element"
   ]
  },
  {
   "cell_type": "code",
   "execution_count": 43,
   "id": "1b773f14",
   "metadata": {},
   "outputs": [
    {
     "data": {
      "text/plain": [
       "1"
      ]
     },
     "execution_count": 43,
     "metadata": {},
     "output_type": "execute_result"
    }
   ],
   "source": [
    "min_ = np.min(arr)\n",
    "min_"
   ]
  },
  {
   "cell_type": "markdown",
   "id": "b04fb5c2",
   "metadata": {},
   "source": [
    "- Maximum: Find the maximum elemen"
   ]
  },
  {
   "cell_type": "code",
   "execution_count": 44,
   "id": "a20a77e2",
   "metadata": {},
   "outputs": [
    {
     "data": {
      "text/plain": [
       "6"
      ]
     },
     "execution_count": 44,
     "metadata": {},
     "output_type": "execute_result"
    }
   ],
   "source": [
    "max_ = np.max(arr)\n",
    "max_"
   ]
  },
  {
   "cell_type": "markdown",
   "id": "980dd857",
   "metadata": {},
   "source": [
    "### 11.3. Mean, Median, Standard Deviation\n",
    "- Mean: Calculate the mean of elements"
   ]
  },
  {
   "cell_type": "code",
   "execution_count": 45,
   "id": "d87b9b28",
   "metadata": {},
   "outputs": [
    {
     "data": {
      "text/plain": [
       "3.5"
      ]
     },
     "execution_count": 45,
     "metadata": {},
     "output_type": "execute_result"
    }
   ],
   "source": [
    "mean = np.mean(arr)\n",
    "mean"
   ]
  },
  {
   "cell_type": "markdown",
   "id": "20202235",
   "metadata": {},
   "source": [
    "- Median: Calculate the median of elements"
   ]
  },
  {
   "cell_type": "code",
   "execution_count": 46,
   "id": "64f0680d",
   "metadata": {},
   "outputs": [],
   "source": [
    "median = np.median(arr)"
   ]
  },
  {
   "cell_type": "code",
   "execution_count": 47,
   "id": "94eb1d38",
   "metadata": {},
   "outputs": [
    {
     "data": {
      "text/plain": [
       "3.5"
      ]
     },
     "execution_count": 47,
     "metadata": {},
     "output_type": "execute_result"
    }
   ],
   "source": [
    "median"
   ]
  },
  {
   "cell_type": "markdown",
   "id": "b05b76d8",
   "metadata": {},
   "source": [
    "- Standard Deviation: Calculate the standard deviation."
   ]
  },
  {
   "cell_type": "code",
   "execution_count": 48,
   "id": "dcdf5c77",
   "metadata": {},
   "outputs": [],
   "source": [
    "std_dev = np.std(arr)"
   ]
  },
  {
   "cell_type": "code",
   "execution_count": 49,
   "id": "b861c4bc",
   "metadata": {},
   "outputs": [
    {
     "data": {
      "text/plain": [
       "1.707825127659933"
      ]
     },
     "execution_count": 49,
     "metadata": {},
     "output_type": "execute_result"
    }
   ],
   "source": [
    "std_dev"
   ]
  },
  {
   "cell_type": "markdown",
   "id": "f0559203",
   "metadata": {},
   "source": [
    "## 12. Handling Missing Data\n",
    "### 12.1. Using NaN\n",
    "NumPy provides NaN (Not a Number) to represent missing values"
   ]
  },
  {
   "cell_type": "code",
   "execution_count": 50,
   "id": "82b39a43",
   "metadata": {},
   "outputs": [
    {
     "data": {
      "text/plain": [
       "array([ 1.,  2., nan,  4.])"
      ]
     },
     "execution_count": 50,
     "metadata": {},
     "output_type": "execute_result"
    }
   ],
   "source": [
    "arr_with_nan = np.array([1, 2, np.nan, 4])\n",
    "arr_with_nan"
   ]
  },
  {
   "cell_type": "markdown",
   "id": "df6f4a83",
   "metadata": {},
   "source": [
    "### 12.2. Checking for NaN\n",
    "Check for NaN values using np.isnan()."
   ]
  },
  {
   "cell_type": "code",
   "execution_count": 51,
   "id": "652d5da2",
   "metadata": {},
   "outputs": [
    {
     "data": {
      "text/plain": [
       "array([False, False,  True, False])"
      ]
     },
     "execution_count": 51,
     "metadata": {},
     "output_type": "execute_result"
    }
   ],
   "source": [
    "nan_check = np.isnan(arr_with_nan)\n",
    "nan_check"
   ]
  },
  {
   "cell_type": "markdown",
   "id": "4cd51d34",
   "metadata": {},
   "source": [
    "### 12.3. Filling NaN\n",
    "Replace NaN values using np.nan_to_num()."
   ]
  },
  {
   "cell_type": "code",
   "execution_count": 52,
   "id": "5072eb71",
   "metadata": {},
   "outputs": [
    {
     "data": {
      "text/plain": [
       "array([1., 2., 0., 4.])"
      ]
     },
     "execution_count": 52,
     "metadata": {},
     "output_type": "execute_result"
    }
   ],
   "source": [
    "filled_arr = np.nan_to_num(arr_with_nan)\n",
    "filled_arr"
   ]
  },
  {
   "cell_type": "code",
   "execution_count": null,
   "id": "ea471246",
   "metadata": {},
   "outputs": [],
   "source": []
  }
 ],
 "metadata": {
  "kernelspec": {
   "display_name": "Python 3 (ipykernel)",
   "language": "python",
   "name": "python3"
  },
  "language_info": {
   "codemirror_mode": {
    "name": "ipython",
    "version": 3
   },
   "file_extension": ".py",
   "mimetype": "text/x-python",
   "name": "python",
   "nbconvert_exporter": "python",
   "pygments_lexer": "ipython3",
   "version": "3.11.4"
  }
 },
 "nbformat": 4,
 "nbformat_minor": 5
}
